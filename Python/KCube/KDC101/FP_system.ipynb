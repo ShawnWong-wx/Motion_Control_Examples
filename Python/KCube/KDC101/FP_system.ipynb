{
 "cells": [
  {
   "cell_type": "markdown",
   "id": "2db273df",
   "metadata": {},
   "source": [
    "# pylablib\n",
    "ref: [thorlabs kinesis](https://pylablib.readthedocs.io/en/latest/devices/Thorlabs_kinesis.html#thorlabs-apt-kinesis-devices)"
   ]
  },
  {
   "cell_type": "code",
   "execution_count": 1,
   "id": "b3f6e7db-a824-4aab-88ab-db4eebd9ec17",
   "metadata": {},
   "outputs": [],
   "source": [
    "import sys\n",
    "%load_ext autoreload\n",
    "%autoreload 2\n",
    "from FP_system_control_script import *"
   ]
  },
  {
   "cell_type": "code",
   "execution_count": 2,
   "id": "ac32750f",
   "metadata": {},
   "outputs": [],
   "source": [
    "%reload_ext autoreload\n",
    "from FP_system_control_script import *"
   ]
  },
  {
   "cell_type": "code",
   "execution_count": 3,
   "id": "5cf06e9c",
   "metadata": {},
   "outputs": [
    {
     "name": "stdout",
     "output_type": "stream",
     "text": [
      "detected translation stage(s) S/N:\n",
      "['27266045', '27257923']\n",
      "\n",
      "start to initialize all translation stages:\n",
      "initializing 27266045: finished. current position: 0.0 [mm]\n",
      "initializing 27257923: finished. current position: 0.0 [mm]\n",
      "translation stage(s) initialization finished! \n",
      "\n"
     ]
    }
   ],
   "source": [
    "FP_xy_1cam = FP_system_control()"
   ]
  },
  {
   "cell_type": "code",
   "execution_count": 4,
   "id": "da975bbc",
   "metadata": {},
   "outputs": [
    {
     "name": "stdout",
     "output_type": "stream",
     "text": [
      "currently connected translation stage(s):\n",
      "S/N 27266045: 27266045\n",
      "S/N 27257923: 27257923\n",
      "\n"
     ]
    }
   ],
   "source": [
    "FP_xy_1cam.get_all_stage_name()"
   ]
  },
  {
   "cell_type": "code",
   "execution_count": 5,
   "id": "5328481f",
   "metadata": {},
   "outputs": [
    {
     "name": "stdout",
     "output_type": "stream",
     "text": [
      "['27266045', '27257923'] finished renaming!\n",
      "\n",
      "currently connected translation stage(s):\n",
      "S/N 27266045: x\n",
      "S/N 27257923: y\n",
      "\n"
     ]
    }
   ],
   "source": [
    "FP_xy_1cam.change_stage_name(\"27266045\", \"27257923\", first=\"x\", second=\"y\")"
   ]
  },
  {
   "cell_type": "code",
   "execution_count": 13,
   "id": "a64e3067",
   "metadata": {},
   "outputs": [
    {
     "name": "stdout",
     "output_type": "stream",
     "text": [
      "stage x's current position: -25.000086818116046 [mm]\n",
      "stage y's current position: -25.0 [mm]\n",
      "\n"
     ]
    }
   ],
   "source": [
    "FP_xy_1cam.get_stage_position()"
   ]
  },
  {
   "cell_type": "code",
   "execution_count": 7,
   "id": "1e8a1966",
   "metadata": {},
   "outputs": [
    {
     "name": "stdout",
     "output_type": "stream",
     "text": [
      "stage x's info:\n",
      "velocity_parameters: TVelocityParams(min_velocity=0.0, acceleration=1.0, max_velocity=1.0)\n",
      "jog_parameters: TJogParams(mode='step', step_size=0.4999855303139922, min_velocity=0.0, acceleration=1.0, max_velocity=1.0, stop_mode='profiled')\n",
      "homing_parameters: THomeParams(home_direction='forward', limit_switch='forward', velocity=1.0, offset_distance=1.0)\n",
      "gen_move_parameters: TGenMoveParams(backlash_distance=0.05000723484300391)\n",
      "limit_switch_parameters: TLimitSwitchParams(hw_kind_cw='make', hw_kind_ccw='make', hw_swapped=False, sw_position_cw=3.0, sw_position_ccw=1.0, sw_kind='ignore')\n",
      "kcube_trigio_parameters: TKCubeTrigIOParams(trig1_mode='off', trig1_pol=True, trig2_mode='off', trig2_pol=True)\n",
      "kcube_trigpos_parameters: TKCubeTrigPosParams(start_fw=0.0, step_fw=0.0, num_fw=1, start_bk=0.0, step_bk=0.0, num_bk=1, width=0.05, ncycles=1)\n",
      "position: 0.0\n",
      "status: ['sw_bk_lim', 'connected', 'homed', 'digio1', 'digio2', 'power_ok', 'enabled']\n",
      "cls: KinesisMotor\n",
      "conn: {'port': '27266045', 'baudrate': 115200, 'bytesize': 8, 'parity': 'N', 'stopbits': 1, 'xonxoff': 0, 'rtscts': True}\n",
      "device_info: TDeviceInfo(serial_no=27266045, model_no='KDC101', fw_ver='2.2.6', hw_type=16, hw_ver=3, mod_state=0, nchannels=1, notes='KDC101 DC Servo Drive')\n",
      "channel: [1]\n",
      "scale_units: user\n",
      "scale: (34555.0, 772970.0, 264.0)\n",
      "stage: None\n",
      "\n",
      "\n",
      "stage y's info:\n",
      "velocity_parameters: TVelocityParams(min_velocity=0.0, acceleration=1.0, max_velocity=1.0)\n",
      "jog_parameters: TJogParams(mode='step', step_size=0.4999855303139922, min_velocity=0.0, acceleration=1.0, max_velocity=1.0, stop_mode='profiled')\n",
      "homing_parameters: THomeParams(home_direction='forward', limit_switch='forward', velocity=1.0, offset_distance=1.0)\n",
      "gen_move_parameters: TGenMoveParams(backlash_distance=0.05000723484300391)\n",
      "limit_switch_parameters: TLimitSwitchParams(hw_kind_cw='make', hw_kind_ccw='make', hw_swapped=False, sw_position_cw=3.0, sw_position_ccw=1.0, sw_kind='ignore')\n",
      "kcube_trigio_parameters: TKCubeTrigIOParams(trig1_mode='off', trig1_pol=True, trig2_mode='off', trig2_pol=True)\n",
      "kcube_trigpos_parameters: TKCubeTrigPosParams(start_fw=0.0, step_fw=0.0, num_fw=1, start_bk=0.0, step_bk=0.0, num_bk=1, width=0.05, ncycles=1)\n",
      "position: 0.0\n",
      "status: ['sw_bk_lim', 'connected', 'homed', 'digio1', 'digio2', 'power_ok', 'enabled']\n",
      "cls: KinesisMotor\n",
      "conn: {'port': '27257923', 'baudrate': 115200, 'bytesize': 8, 'parity': 'N', 'stopbits': 1, 'xonxoff': 0, 'rtscts': True}\n",
      "device_info: TDeviceInfo(serial_no=27257923, model_no='KDC101', fw_ver='2.2.4', hw_type=16, hw_ver=3, mod_state=0, nchannels=1, notes='KDC101 DC Servo Drive')\n",
      "channel: [1]\n",
      "scale_units: user\n",
      "scale: (34555.0, 772970.0, 264.0)\n",
      "stage: None\n",
      "\n",
      "\n",
      "\n"
     ]
    }
   ],
   "source": [
    "FP_xy_1cam.get_stage_full_info()"
   ]
  },
  {
   "cell_type": "code",
   "execution_count": 8,
   "id": "6e656575",
   "metadata": {},
   "outputs": [
    {
     "name": "stdout",
     "output_type": "stream",
     "text": [
      "homing stage x: finished!\n",
      "stage x's current position: 2.893937201562726e-05 [mm]\n",
      "\n",
      "homing stage y: finished!\n",
      "stage y's current position: 0.0 [mm]\n",
      "\n",
      "['x', 'y'] finished homing!\n",
      "\n"
     ]
    }
   ],
   "source": [
    "FP_xy_1cam.home_stage()"
   ]
  },
  {
   "cell_type": "code",
   "execution_count": 9,
   "id": "f0f3b546",
   "metadata": {},
   "outputs": [
    {
     "name": "stdout",
     "output_type": "stream",
     "text": [
      "moving stage x to position -25 [mm]: finished!\n",
      "moving stage y to position -25 [mm]: finished!\n",
      "['x', 'y'] finished homing!\n",
      "\n",
      "stage x's current position: -25.000086818116046 [mm]\n",
      "stage y's current position: -25.000028939372015 [mm]\n",
      "\n"
     ]
    }
   ],
   "source": [
    "FP_xy_1cam.move_stage(\"x\", \"y\", x=-25, y=-25)"
   ]
  },
  {
   "cell_type": "code",
   "execution_count": 14,
   "id": "a49853f9",
   "metadata": {},
   "outputs": [
    {
     "name": "stdout",
     "output_type": "stream",
     "text": [
      "['x', 'y'] finished close!\n",
      "\n",
      "currently connected translation stage(s):\n",
      "\n"
     ]
    }
   ],
   "source": [
    "FP_xy_1cam.close_stages()"
   ]
  },
  {
   "cell_type": "code",
   "execution_count": null,
   "id": "170cdb12",
   "metadata": {},
   "outputs": [],
   "source": []
  },
  {
   "cell_type": "code",
   "execution_count": 10,
   "id": "e591ce1a",
   "metadata": {},
   "outputs": [
    {
     "data": {
      "text/plain": [
       "['x', 'y']"
      ]
     },
     "execution_count": 10,
     "metadata": {},
     "output_type": "execute_result"
    }
   ],
   "source": [
    "FP_xy_1cam.axis"
   ]
  },
  {
   "cell_type": "code",
   "execution_count": 6,
   "id": "e28aed87",
   "metadata": {},
   "outputs": [
    {
     "name": "stdout",
     "output_type": "stream",
     "text": [
      "Common args:  hello\n",
      "Single args:  ('world', 0)\n",
      "Double args:  {'name': 'Test', 'age': 24}\n"
     ]
    }
   ],
   "source": [
    "def singalAndDoubleStar(common, *single, **double):\n",
    "    print(\"Common args: \", common)\n",
    "    print(\"Single args: \", single)\n",
    "    print(\"Double args: \", double)\n",
    "\n",
    "\n",
    "singalAndDoubleStar(\"hello\", \"world\", 000, name=\"Test\", age=24)"
   ]
  },
  {
   "cell_type": "code",
   "execution_count": null,
   "id": "3b612c84",
   "metadata": {},
   "outputs": [],
   "source": [
    "import functools\n",
    "\n",
    "\n",
    "def outer(test):\n",
    "    def decorator(func):\n",
    "        @functools.wraps(func)\n",
    "        def wrapper(value):\n",
    "            # 原函数运行前\n",
    "            # Do something\n",
    "            value = func(test, value)\n",
    "            # 原函数运行后\n",
    "            # Do something\n",
    "            return value\n",
    "\n",
    "        return wrapper\n",
    "\n",
    "    return decorator\n",
    "\n",
    "\n",
    "@outer(2)\n",
    "def add(x, y):\n",
    "    return x + y"
   ]
  },
  {
   "cell_type": "code",
   "execution_count": null,
   "id": "1efc6277",
   "metadata": {},
   "outputs": [],
   "source": [
    "def check_value(dict, value):\n",
    "    if value in dict.values():\n",
    "        return True\n",
    "    else:\n",
    "        return False"
   ]
  },
  {
   "cell_type": "code",
   "execution_count": null,
   "id": "d93d8dc5",
   "metadata": {},
   "outputs": [],
   "source": [
    "old_name_list + [6]"
   ]
  },
  {
   "cell_type": "code",
   "execution_count": null,
   "id": "c006a203",
   "metadata": {},
   "outputs": [],
   "source": [
    "new_name_dict = {1: \"one\", 2: \"two\", 3: 3}\n",
    "old_name_list = list(range(1, 4))\n",
    "exit_list = list(\n",
    "    map(\n",
    "        check_value,\n",
    "        [new_name_dict.copy() for _ in range(len(old_name_list))],\n",
    "        old_name_list,\n",
    "    )\n",
    ")"
   ]
  },
  {
   "cell_type": "code",
   "execution_count": null,
   "id": "eece17b8",
   "metadata": {},
   "outputs": [],
   "source": [
    "[name for flag, name in zip(exit_list, old_name_list) if flag]"
   ]
  },
  {
   "cell_type": "code",
   "execution_count": null,
   "id": "72ab0faf",
   "metadata": {},
   "outputs": [],
   "source": [
    "for old_name, new_name in zip(old_name_list, list(new_name_dict.values())):\n",
    "    print(old_name, new_name)"
   ]
  },
  {
   "cell_type": "code",
   "execution_count": null,
   "id": "0ce4dd51",
   "metadata": {},
   "outputs": [],
   "source": [
    "a = [1, 2, 3]\n",
    "b = [4, 5, 6]"
   ]
  },
  {
   "cell_type": "code",
   "execution_count": null,
   "id": "78685073",
   "metadata": {},
   "outputs": [],
   "source": [
    "list(zip(*zip(a, b)))[0]"
   ]
  },
  {
   "cell_type": "code",
   "execution_count": null,
   "id": "7457c568",
   "metadata": {},
   "outputs": [],
   "source": [
    "FP_xy_1cam.get_stage_position()"
   ]
  },
  {
   "cell_type": "code",
   "execution_count": null,
   "id": "b0fedc6e",
   "metadata": {},
   "outputs": [],
   "source": [
    "FP_xy_1cam.change_stage_name(old_name=\"27266045\", new_name=\"x\")\n",
    "FP_xy_1cam.change_stage_name(old_name=\"27257923\", new_name=\"y\")"
   ]
  },
  {
   "cell_type": "code",
   "execution_count": null,
   "id": "44d99294",
   "metadata": {},
   "outputs": [],
   "source": [
    "FP_xy_1cam.close_stages()"
   ]
  },
  {
   "cell_type": "code",
   "execution_count": null,
   "id": "63e3a058",
   "metadata": {},
   "outputs": [],
   "source": [
    "str(\"\\u03B8\")"
   ]
  },
  {
   "cell_type": "code",
   "execution_count": null,
   "id": "1f51ab82",
   "metadata": {},
   "outputs": [],
   "source": [
    "[device[0] for device in Thorlabs.list_kinesis_devices()]"
   ]
  },
  {
   "cell_type": "code",
   "execution_count": null,
   "id": "8eafc7f6",
   "metadata": {},
   "outputs": [],
   "source": [
    "x_stage = Thorlabs.KinesisMotor(\n",
    "    Thorlabs.list_kinesis_devices()[0][0], scale=(34555.0, 772970.0, 264.0)\n",
    ")  # [1 mm / scale]\n",
    "\n",
    "\n",
    "y_stage = Thorlabs.KinesisMotor(\n",
    "    Thorlabs.list_kinesis_devices()[1][0], scale=(34555.0, 772970.0, 264.0)\n",
    ")  # [1 mm / scale]\n",
    "\n",
    "\n",
    "# modfied in class KinesisMotor(KinesisDevice):\n",
    "\n",
    "\n",
    "# if stage in {\"MTS25-Z8\",\"MTS50-Z8\"}:\n",
    "\n",
    "\n",
    "#             return 34555E0,\"mm\""
   ]
  },
  {
   "cell_type": "code",
   "execution_count": null,
   "id": "88c55cd3",
   "metadata": {},
   "outputs": [],
   "source": [
    "x_stage.setup_velocity(min_velocity=0, max_velocity=1, acceleration=1)\n",
    "x_stage.setup_homing(velocity=1, home_direction=\"forward\", limit_switch=\"forward\")\n",
    "x_stage.setup_jog(min_velocity=0, max_velocity=1, acceleration=1)\n",
    "\n",
    "y_stage.setup_velocity(min_velocity=0, max_velocity=1, acceleration=1)\n",
    "y_stage.setup_homing(velocity=1, home_direction=\"forward\", limit_switch=\"forward\")\n",
    "y_stage.setup_jog(min_velocity=0, max_velocity=1, acceleration=1)"
   ]
  },
  {
   "cell_type": "code",
   "execution_count": null,
   "id": "482c40e1",
   "metadata": {},
   "outputs": [],
   "source": [
    "print(x_stage.get_full_info())\n",
    "print(y_stage.get_full_info())"
   ]
  },
  {
   "cell_type": "code",
   "execution_count": null,
   "id": "3e299482",
   "metadata": {},
   "outputs": [],
   "source": [
    "x_stage.home(force=True)  # home the stage\n",
    "y_stage.home(force=True)  # home the stage\n",
    "\n",
    "x_stage.wait_for_home()  # wait until homing is done\n",
    "y_stage.wait_for_home()  # wait until homing is done"
   ]
  },
  {
   "cell_type": "code",
   "execution_count": null,
   "id": "3ed253dc",
   "metadata": {},
   "outputs": [],
   "source": [
    "print(x_stage.get_position())\n",
    "print(y_stage.get_position())"
   ]
  },
  {
   "cell_type": "code",
   "execution_count": null,
   "id": "f2ce2059",
   "metadata": {},
   "outputs": [],
   "source": [
    "x_stage.move_to(-25)\n",
    "x_stage.wait_move()\n",
    "y_stage.move_to(-25)\n",
    "y_stage.wait_move()"
   ]
  },
  {
   "cell_type": "code",
   "execution_count": null,
   "id": "162e9c38",
   "metadata": {},
   "outputs": [],
   "source": [
    "x_stage.close()\n",
    "y_stage.close()"
   ]
  }
 ],
 "metadata": {
  "kernelspec": {
   "display_name": "Python 3 (ipykernel)",
   "language": "python",
   "name": "python3"
  },
  "language_info": {
   "codemirror_mode": {
    "name": "ipython",
    "version": 3
   },
   "file_extension": ".py",
   "mimetype": "text/x-python",
   "name": "python",
   "nbconvert_exporter": "python",
   "pygments_lexer": "ipython3",
   "version": "3.10.14"
  }
 },
 "nbformat": 4,
 "nbformat_minor": 5
}
