{
 "cells": [
  {
   "cell_type": "code",
   "execution_count": 1,
   "id": "b3f6e7db-a824-4aab-88ab-db4eebd9ec17",
   "metadata": {},
   "outputs": [],
   "source": [
    "import numpy as np\n",
    "\n",
    "import os\n",
    "import time\n",
    "import ctypes\n",
    "import sys\n",
    "from ctypes import *"
   ]
  },
  {
   "cell_type": "markdown",
   "id": "2db273df",
   "metadata": {},
   "source": [
    "# pylablib\n",
    "ref: [thorlabs kinesis](https://pylablib.readthedocs.io/en/latest/devices/Thorlabs_kinesis.html#thorlabs-apt-kinesis-devices)"
   ]
  },
  {
   "cell_type": "code",
   "execution_count": 60,
   "id": "64c6177a",
   "metadata": {},
   "outputs": [],
   "source": [
    "from pylablib.devices import Thorlabs"
   ]
  },
  {
   "cell_type": "code",
   "execution_count": 61,
   "id": "1f51ab82",
   "metadata": {},
   "outputs": [
    {
     "data": {
      "text/plain": [
       "[('27257923', 'Brushed Motor Controller'),\n",
       " ('27266045', 'Brushed Motor Controller')]"
      ]
     },
     "execution_count": 61,
     "metadata": {},
     "output_type": "execute_result"
    }
   ],
   "source": [
    "Thorlabs.list_kinesis_devices()"
   ]
  },
  {
   "cell_type": "code",
   "execution_count": 54,
   "id": "8eafc7f6",
   "metadata": {},
   "outputs": [],
   "source": [
    "x_stage = Thorlabs.KinesisMotor('27257923',scale=(34555.0, 772970.0, 264.0)) # [1 mm / scale]\n",
    "y_stage = Thorlabs.KinesisMotor('27257923',scale=(34555.0, 772970.0, 264.0)) # [1 mm / scale]\n",
    "# modfied in class KinesisMotor(KinesisDevice): \n",
    "# if stage in {\"MTS25-Z8\",\"MTS50-Z8\"}:\n",
    "#             return 34555E0,\"mm\""
   ]
  },
  {
   "cell_type": "code",
   "execution_count": 57,
   "id": "88c55cd3",
   "metadata": {},
   "outputs": [
    {
     "data": {
      "text/plain": [
       "TJogParams(mode='step', step_size=0.4999855303139922, min_velocity=0.0, acceleration=1.0, max_velocity=1.0, stop_mode='profiled')"
      ]
     },
     "execution_count": 57,
     "metadata": {},
     "output_type": "execute_result"
    }
   ],
   "source": [
    "test_stage.setup_velocity(min_velocity=0, max_velocity=1, acceleration=1)\n",
    "test_stage.setup_homing(velocity=1)\n",
    "test_stage.setup_jog(min_velocity=0, max_velocity=1, acceleration=1)"
   ]
  },
  {
   "cell_type": "code",
   "execution_count": 45,
   "id": "482c40e1",
   "metadata": {},
   "outputs": [
    {
     "data": {
      "text/plain": [
       "{'velocity_parameters': TVelocityParams(min_velocity=0.0, acceleration=1.0, max_velocity=1.0),\n",
       " 'jog_parameters': TJogParams(mode='step', step_size=0.4999855303139922, min_velocity=0.0, acceleration=1.0, max_velocity=1.0, stop_mode='profiled'),\n",
       " 'homing_parameters': THomeParams(home_direction='reverse', limit_switch='reverse', velocity=1.0, offset_distance=1.0),\n",
       " 'gen_move_parameters': TGenMoveParams(backlash_distance=0.05000723484300391),\n",
       " 'limit_switch_parameters': TLimitSwitchParams(hw_kind_cw='make', hw_kind_ccw='make', hw_swapped=False, sw_position_cw=3.0, sw_position_ccw=1.0, sw_kind='ignore'),\n",
       " 'kcube_trigio_parameters': TKCubeTrigIOParams(trig1_mode='off', trig1_pol=True, trig2_mode='off', trig2_pol=True),\n",
       " 'kcube_trigpos_parameters': TKCubeTrigPosParams(start_fw=0.0, step_fw=0.0, num_fw=1, start_bk=0.0, step_bk=0.0, num_bk=1, width=0.05, ncycles=1),\n",
       " 'position': 25.0,\n",
       " 'status': ['sw_fw_lim',\n",
       "  'connected',\n",
       "  'homed',\n",
       "  'digio1',\n",
       "  'digio2',\n",
       "  'power_ok',\n",
       "  'enabled'],\n",
       " 'cls': 'KinesisMotor',\n",
       " 'conn': {'port': '27257923',\n",
       "  'baudrate': 115200,\n",
       "  'bytesize': 8,\n",
       "  'parity': 'N',\n",
       "  'stopbits': 1,\n",
       "  'xonxoff': 0,\n",
       "  'rtscts': True},\n",
       " 'device_info': TDeviceInfo(serial_no=27257923, model_no='KDC101', fw_ver='2.2.4', hw_type=16, hw_ver=3, mod_state=0, nchannels=1, notes='KDC101 DC Servo Drive'),\n",
       " 'channel': [1],\n",
       " 'scale_units': 'user',\n",
       " 'scale': (34555.0, 772970.0, 264.0),\n",
       " 'stage': None}"
      ]
     },
     "execution_count": 45,
     "metadata": {},
     "output_type": "execute_result"
    }
   ],
   "source": [
    "test_stage.get_full_info()"
   ]
  },
  {
   "cell_type": "code",
   "execution_count": 58,
   "id": "3e299482",
   "metadata": {},
   "outputs": [],
   "source": [
    "test_stage.home(force=True)  # home the stage\n",
    "test_stage.wait_for_home()  # wait until homing is done"
   ]
  },
  {
   "cell_type": "code",
   "execution_count": 47,
   "id": "3ed253dc",
   "metadata": {},
   "outputs": [
    {
     "data": {
      "text/plain": [
       "0.0"
      ]
     },
     "execution_count": 47,
     "metadata": {},
     "output_type": "execute_result"
    }
   ],
   "source": [
    "test_stage.get_position()"
   ]
  },
  {
   "cell_type": "code",
   "execution_count": 55,
   "id": "f2ce2059",
   "metadata": {},
   "outputs": [],
   "source": [
    "test_stage.move_to(25)\n",
    "test_stage.wait_move()"
   ]
  },
  {
   "cell_type": "code",
   "execution_count": 59,
   "id": "162e9c38",
   "metadata": {},
   "outputs": [],
   "source": [
    "test_stage.close()"
   ]
  },
  {
   "cell_type": "code",
   "execution_count": null,
   "id": "3ec5f028",
   "metadata": {},
   "outputs": [],
   "source": []
  },
  {
   "cell_type": "code",
   "execution_count": null,
   "id": "c3bb69a5",
   "metadata": {},
   "outputs": [],
   "source": []
  },
  {
   "cell_type": "code",
   "execution_count": null,
   "id": "1607b127",
   "metadata": {},
   "outputs": [],
   "source": []
  },
  {
   "cell_type": "code",
   "execution_count": null,
   "id": "4c8d0658",
   "metadata": {},
   "outputs": [],
   "source": []
  },
  {
   "cell_type": "code",
   "execution_count": null,
   "id": "f4ed58a1",
   "metadata": {},
   "outputs": [],
   "source": []
  },
  {
   "cell_type": "code",
   "execution_count": null,
   "id": "e6840ed0",
   "metadata": {},
   "outputs": [],
   "source": []
  },
  {
   "cell_type": "markdown",
   "id": "cb325e6d",
   "metadata": {},
   "source": [
    "# thorlabs-kinesis"
   ]
  },
  {
   "cell_type": "code",
   "execution_count": 2,
   "id": "1a16001b",
   "metadata": {},
   "outputs": [],
   "source": [
    "if sys.version_info < (3, 8):\n",
    "    os.chdir(r\"C:\\Program Files\\Thorlabs\\Kinesis\")\n",
    "else:\n",
    "    os.add_dll_directory(r\"C:\\Program Files\\Thorlabs\\Kinesis\")\n",
    "\n",
    "lib: CDLL = cdll.LoadLibrary(\"Thorlabs.MotionControl.KCube.DCServo.dll\")\n"
   ]
  },
  {
   "cell_type": "code",
   "execution_count": 3,
   "id": "8c0d1795",
   "metadata": {},
   "outputs": [
    {
     "name": "stdout",
     "output_type": "stream",
     "text": [
      "0\n",
      "home operation completed!\n",
      "-2147482624\n"
     ]
    },
    {
     "data": {
      "text/plain": [
       "2"
      ]
     },
     "execution_count": 3,
     "metadata": {},
     "output_type": "execute_result"
    }
   ],
   "source": [
    "# Uncomment this line if you are using simulations\n",
    "lib.TLI_InitializeSimulations()\n",
    "\n",
    "# Set constants\n",
    "serial_num = c_char_p(b\"27000001\")\n",
    "\n",
    "if lib.TLI_BuildDeviceList() == 0:\n",
    "    lib.CC_Open(serial_num)\n",
    "    lib.CC_StartPolling(serial_num, c_int(200))\n",
    "\n",
    "    if lib.CC_CanHome(serial_num):\n",
    "        lib.CC_Home(serial_num)\n",
    "\n",
    "        lib.CC_RequestStatusBits(serial_num)\n",
    "        print(lib.CC_GetStatusBits(serial_num))\n",
    "\n",
    "        while lib.CC_GetPositionCounter(serial_num)!=0:\n",
    "            pass\n",
    "        \n",
    "        time.sleep(.1)\n",
    "\n",
    "        print('home operation completed!')\n",
    "        \n",
    "        lib.CC_RequestStatusBits(serial_num)\n",
    "        print(lib.CC_GetStatusBits(serial_num))\n",
    "        \n",
    "    # # Set up the device to convert real units to device units\n",
    "    # STEPS_PER_REV = c_double(34555)  # for the MTS50-Z8\n",
    "    # gbox_ratio = c_double(1.0)  # gearbox ratio\n",
    "    # pitch = c_double(1.0)\n",
    "\n",
    "    # # Apply these values to the device\n",
    "    # lib.CC_SetMotorParamsExt(serial_num, STEPS_PER_REV, gbox_ratio, pitch)\n",
    "\n",
    "    # # Get the device's current position in dev units\n",
    "    # lib.CC_RequestPosition(serial_num)\n",
    "    # time.sleep(0.2)\n",
    "    # dev_pos = c_int(lib.CC_GetPosition(serial_num))\n",
    "\n",
    "    lib.CC_Close(serial_num)\n",
    "\n",
    "\n",
    "\n",
    "# Uncomment this line if you are using simulations\n",
    "lib.TLI_UninitializeSimulations()"
   ]
  },
  {
   "cell_type": "markdown",
   "id": "4e41f299",
   "metadata": {},
   "source": [
    "# thorlabs_apt_device"
   ]
  },
  {
   "cell_type": "code",
   "execution_count": 2,
   "id": "8acfffb4-78b2-48f2-b948-011884d04dad",
   "metadata": {},
   "outputs": [],
   "source": [
    "from thorlabs_apt_device import TDC001, KDC101"
   ]
  },
  {
   "cell_type": "code",
   "execution_count": 30,
   "id": "325b4cc8",
   "metadata": {},
   "outputs": [],
   "source": [
    "stage = TDC001('COM6',home=False)\n",
    "time.sleep(1)\n",
    "while stage.status[\"moving_forward\"]==True or stage.status[\"moving_reverse\"]==True or stage.status[\"homing\"]==True:\n",
    "    pass"
   ]
  },
  {
   "cell_type": "code",
   "execution_count": 34,
   "id": "8f2a0dc8",
   "metadata": {},
   "outputs": [],
   "source": [
    "stage.home()\n",
    "time.sleep(1)\n",
    "while stage.status[\"moving_forward\"]==True or stage.status[\"moving_reverse\"]==True or stage.status[\"homing\"]==True:\n",
    "    pass"
   ]
  },
  {
   "cell_type": "code",
   "execution_count": 227,
   "id": "15ff3fb7",
   "metadata": {},
   "outputs": [],
   "source": [
    "stage.stop(True)"
   ]
  },
  {
   "cell_type": "code",
   "execution_count": 35,
   "id": "edf40702",
   "metadata": {},
   "outputs": [
    {
     "data": {
      "text/plain": [
       "{'position': 0,\n",
       " 'enc_count': 0,\n",
       " 'velocity': 0,\n",
       " 'forward_limit_switch': False,\n",
       " 'reverse_limit_switch': False,\n",
       " 'moving_forward': False,\n",
       " 'moving_reverse': False,\n",
       " 'jogging_forward': False,\n",
       " 'jogging_reverse': False,\n",
       " 'motor_connected': True,\n",
       " 'homing': False,\n",
       " 'homed': True,\n",
       " 'tracking': False,\n",
       " 'interlock': False,\n",
       " 'settled': False,\n",
       " 'motion_error': False,\n",
       " 'motor_current_limit_reached': False,\n",
       " 'channel_enabled': True,\n",
       " 'msg': 'mot_get_dcstatusupdate',\n",
       " 'msgid': 1169,\n",
       " 'source': 80,\n",
       " 'dest': 1,\n",
       " 'chan_ident': 1,\n",
       " 'forward_limit_soft': True,\n",
       " 'reverse_limit_soft': False,\n",
       " 'initializing': False,\n",
       " 'instrument_error': False,\n",
       " 'overtemp': False,\n",
       " 'voltage_fault': False,\n",
       " 'commutation_error': False,\n",
       " 'digital_in_1': False,\n",
       " 'digital_in_2': False,\n",
       " 'digital_in_3': False,\n",
       " 'digital_in_4': False,\n",
       " 'encoder_fault': False,\n",
       " 'overcurrent': False,\n",
       " 'current_fault': False,\n",
       " 'power_ok': True,\n",
       " 'active': False,\n",
       " 'error': False}"
      ]
     },
     "execution_count": 35,
     "metadata": {},
     "output_type": "execute_result"
    }
   ],
   "source": [
    "stage.status\n"
   ]
  },
  {
   "cell_type": "code",
   "execution_count": 32,
   "id": "dfb44547",
   "metadata": {},
   "outputs": [],
   "source": [
    "# Flash the LED on the device to identify it\n",
    "stage.identify()\n",
    "stage.set_velocity_params(264,772970)\n",
    "\n",
    "stage.move_absolute(34555*10)\n",
    "time.sleep(1)\n",
    "while stage.status[\"moving_forward\"]==True or stage.status[\"moving_reverse\"]==True or stage.status[\"homing\"]==True:\n",
    "    pass\n",
    "time.sleep(1)\n",
    "# Do some moves (encoder counts)\n",
    "# or\n",
    "# stage.move_absolute(12345)\n",
    "\n"
   ]
  },
  {
   "cell_type": "code",
   "execution_count": 33,
   "id": "7f99c771",
   "metadata": {},
   "outputs": [
    {
     "name": "stdout",
     "output_type": "stream",
     "text": [
      "345550\n"
     ]
    }
   ],
   "source": [
    "# See the position (in encoder counts)\n",
    "print(stage.status[\"position\"])"
   ]
  },
  {
   "cell_type": "code",
   "execution_count": 23,
   "id": "b5fcb6de",
   "metadata": {},
   "outputs": [
    {
     "data": {
      "text/plain": [
       "False"
      ]
     },
     "execution_count": 23,
     "metadata": {},
     "output_type": "execute_result"
    }
   ],
   "source": [
    "stage.status[\"moving_forward\"]"
   ]
  },
  {
   "cell_type": "code",
   "execution_count": 27,
   "id": "71daa2da",
   "metadata": {},
   "outputs": [],
   "source": [
    "stage.close()"
   ]
  },
  {
   "cell_type": "code",
   "execution_count": null,
   "id": "ef31bb50",
   "metadata": {},
   "outputs": [],
   "source": []
  }
 ],
 "metadata": {
  "kernelspec": {
   "display_name": "Python 3 (ipykernel)",
   "language": "python",
   "name": "python3"
  },
  "language_info": {
   "codemirror_mode": {
    "name": "ipython",
    "version": 3
   },
   "file_extension": ".py",
   "mimetype": "text/x-python",
   "name": "python",
   "nbconvert_exporter": "python",
   "pygments_lexer": "ipython3",
   "version": "3.10.14"
  }
 },
 "nbformat": 4,
 "nbformat_minor": 5
}
