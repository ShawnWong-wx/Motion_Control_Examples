{
 "cells": [
  {
   "cell_type": "code",
   "execution_count": 1,
   "id": "b3f6e7db-a824-4aab-88ab-db4eebd9ec17",
   "metadata": {},
   "outputs": [],
   "source": [
    "import os\n",
    "import time\n",
    "import ctypes\n",
    "import sys\n",
    "\n",
    "# from ctypes import *"
   ]
  },
  {
   "cell_type": "markdown",
   "id": "2db273df",
   "metadata": {},
   "source": [
    "# pylablib\n",
    "ref: [thorlabs kinesis](https://pylablib.readthedocs.io/en/latest/devices/Thorlabs_kinesis.html#thorlabs-apt-kinesis-devices)"
   ]
  },
  {
   "cell_type": "code",
   "execution_count": 1,
   "id": "1fb574ec",
   "metadata": {},
   "outputs": [],
   "source": [
    "from typing import Any\n",
    "import functools\n",
    "from pylablib.devices import Thorlabs\n",
    "import time\n",
    "import numpy as np\n",
    "import sys\n",
    "import os\n",
    "import glob\n",
    "import cv2\n",
    "import math\n",
    "\n",
    "\n",
    "class FP_system_control(object):\n",
    "    \"\"\"\n",
    "    Fourier Ptychography system control Class\n",
    "    devices: MTS50-Z8 (thorlabs), Balser camera\n",
    "    dependencies: pylablib, pypylon\n",
    "    \"\"\"\n",
    "\n",
    "    def __init__(\n",
    "        self,\n",
    "        scale=(34555.0, 772970.0, 264.0),\n",
    "        move_min_velocity=0,\n",
    "        move_max_velocity=1,\n",
    "        acceleration=1,\n",
    "        home_direction=\"forward\",\n",
    "        *args,\n",
    "        **kwargs,\n",
    "    ) -> None:\n",
    "        \"\"\"\n",
    "        initialize the whole system: translation stages and cameras\n",
    "        \"\"\"\n",
    "\n",
    "        self.motor_SN = [\n",
    "            device[0] for device in Thorlabs.list_kinesis_devices()\n",
    "        ]  # translation stage serial number\n",
    "        print(f\"detected translation stage(s) S/N:\\n{self.motor_SN}\\n\")\n",
    "\n",
    "        self.stage = {}  # translation stage objects\n",
    "\n",
    "        ## axis name 'x', 'y', 'z', and 'θ' for renaming translation stages\n",
    "        self.axis = [chr(97 + 23 + i) for i in range(len(self.motor_SN))]\n",
    "        if len(self.axis) > 3:\n",
    "            self.axis[3] = str(\"\\u03B8\")\n",
    "\n",
    "        ## config translation stage parameters\n",
    "        self.scale = scale  # device unit in [1 mm / scale]\n",
    "        self.move_min_velocity = move_min_velocity\n",
    "        self.move_max_velocity = move_max_velocity\n",
    "        self.acceleration = acceleration\n",
    "        self.home_direction = home_direction\n",
    "\n",
    "        print(\"start to initialize all translation stages:\")\n",
    "        self.init_all_stage()  # initialize all translation stages\n",
    "\n",
    "    def __str__(self) -> str:\n",
    "        \"\"\"\n",
    "        brief introduction\n",
    "        \"\"\"\n",
    "        return \"Fourier Ptychography camera system control\"\n",
    "\n",
    "    def __call__(self, *args: Any, **kwds: Any) -> Any:\n",
    "        \"\"\"\n",
    "        decorator\n",
    "        \"\"\"\n",
    "        pass\n",
    "\n",
    "    @staticmethod\n",
    "    def check_name(dict_, name):\n",
    "        if name in dict_.keys():\n",
    "            return True\n",
    "        else:\n",
    "            return False\n",
    "\n",
    "    def _search_name(func):\n",
    "\n",
    "        @functools.wraps(func)  # keep original function name\n",
    "        def wrapper(self, *name_list, **new_name_dict):\n",
    "\n",
    "            name_list = list(name_list)\n",
    "            if name_list == []:  # choose all stages if name_list == []\n",
    "                name_list = list(self.stage.keys())\n",
    "\n",
    "            exist_list = list(\n",
    "                map(\n",
    "                    self.check_name,\n",
    "                    [self.stage.copy() for _ in range(len(name_list))],\n",
    "                    name_list,\n",
    "                )\n",
    "            )\n",
    "\n",
    "            if new_name_dict == {}:\n",
    "                return func(self, name_list, exist_list)\n",
    "            else:\n",
    "                return func(self, name_list, list(new_name_dict.values()), exist_list)\n",
    "\n",
    "        return wrapper\n",
    "\n",
    "    def init_all_stage(\n",
    "        self,\n",
    "    ) -> None:\n",
    "        \"\"\"\n",
    "        initialize all detected translation stages\n",
    "        \"\"\"\n",
    "\n",
    "        for SN in self.motor_SN:\n",
    "            print(f\"initializing {SN}:\", end=\" \")\n",
    "            self.stage[SN] = Thorlabs.KinesisMotor(\n",
    "                SN, self.scale\n",
    "            )  # connect to stage and set scale. [1 mm / scale]\n",
    "\n",
    "            ## config moving velocity\n",
    "            self.stage[SN].setup_velocity(\n",
    "                min_velocity=self.move_min_velocity,\n",
    "                max_velocity=self.move_max_velocity,\n",
    "                acceleration=self.acceleration,\n",
    "            )\n",
    "\n",
    "            ## config home mode\n",
    "            self.stage[SN].setup_homing(\n",
    "                velocity=self.move_max_velocity,\n",
    "                home_direction=self.home_direction,\n",
    "                limit_switch=self.home_direction,\n",
    "            )\n",
    "\n",
    "            ## config jog mode\n",
    "            self.stage[SN].setup_jog(\n",
    "                min_velocity=self.move_min_velocity,\n",
    "                max_velocity=self.move_max_velocity,\n",
    "                acceleration=self.acceleration,\n",
    "            )\n",
    "\n",
    "            self.stage[SN].home(force=True)  # home the stage\n",
    "            self.stage[SN].wait_for_home()  # wait for \"home\"\n",
    "            time.sleep(2)  # wait to be stable\n",
    "            print(\"finished.\", end=\" \")\n",
    "            print(f\"current position: {self.stage[SN].get_position()} [mm]\")\n",
    "\n",
    "        time.sleep(3)  # wait to be stable\n",
    "        print(\"translation stage(s) initialization finished! \\n\")\n",
    "\n",
    "    @_search_name\n",
    "    def change_stage_name(\n",
    "        self, old_name_list: list = [], new_name_list: list = [], exit_list: list = []\n",
    "    ) -> None:\n",
    "        \"\"\"\n",
    "        change translation stage's name\n",
    "        \"\"\"\n",
    "        operate_name_list = []\n",
    "        for old_name, new_name, exit_flag in zip(\n",
    "            old_name_list, new_name_list, exit_list\n",
    "        ):\n",
    "            if exit_flag:\n",
    "                self.stage[new_name] = self.stage.pop(old_name)\n",
    "                operate_name_list.append(old_name)\n",
    "            else:\n",
    "                print(f\"cannot find stage {old_name}\")\n",
    "\n",
    "        print(f\"{operate_name_list} finished renaming!\\n\")\n",
    "        self.get_all_stage_name()\n",
    "\n",
    "    @_search_name\n",
    "    def close_stages(self, name_list: list = [], exit_list: list = []) -> None:\n",
    "        \"\"\"\n",
    "        turn off the connection to translation stage(s)\n",
    "        default: close all connected translation stage(s)\n",
    "        \"\"\"\n",
    "        operate_name_list = []\n",
    "        for name, exit_flag in zip(name_list, exit_list):\n",
    "            if exit_flag:\n",
    "                self.stage[name].close()\n",
    "                self.stage.pop(name)\n",
    "                operate_name_list.append(name)\n",
    "                # print(f\"closed translation stage {name}\")\n",
    "            else:\n",
    "                print(f\"cannot find stage {name}\")\n",
    "\n",
    "        self.motor_SN = [device[0] for device in Thorlabs.list_kinesis_devices()]\n",
    "        print(f\"{operate_name_list} finished close!\\n\")\n",
    "        self.get_all_stage_name()\n",
    "\n",
    "    @_search_name\n",
    "    def get_stage_position(self, name_list: list = [], exit_list: list = []) -> None:\n",
    "        \"\"\"\n",
    "        acquire translation stage's position in [mm]\n",
    "        \"\"\"\n",
    "        for name, exit_flag in zip(name_list, exit_list):\n",
    "            if exit_flag:\n",
    "                print(\n",
    "                    f\"stage {name}'s current position: {self.stage[name].get_position()} [mm]\"\n",
    "                )\n",
    "            else:\n",
    "                print(f\"cannot find stage {name}\")\n",
    "\n",
    "            print()\n",
    "\n",
    "    @_search_name\n",
    "    def get_stage_full_info(self, name_list: list = [], exit_list: list = []) -> None:\n",
    "        \"\"\"\n",
    "        acquire the full info of translation stage\n",
    "        \"\"\"\n",
    "        for name, exit_flag in zip(name_list, exit_list):\n",
    "            if exit_flag:\n",
    "                print(\n",
    "                    f\"stage {name}'s current position: {self.stage[name].get_position()} [mm]\"\n",
    "                )\n",
    "            else:\n",
    "                print(f\"cannot find stage {name}\")\n",
    "\n",
    "            print()\n",
    "\n",
    "    @_search_name\n",
    "    def home_stage(self, name_list: list = [], exit_list: list = []) -> None:\n",
    "        \"\"\"\n",
    "        home translation stage(s)\n",
    "        \"\"\"\n",
    "        operate_name_list = []\n",
    "        for name, exit_flag in zip(name_list, exit_list):\n",
    "            if exit_flag:\n",
    "                self.stage[name].home(force=True)  # home the stage\n",
    "                self.stage[name].wait_for_home()  # wait for \"home\"\n",
    "                time.sleep(2)  # wait to be stable\n",
    "            else:\n",
    "                print(f\"cannot find stage {name}\")\n",
    "\n",
    "            print(f\"{operate_name_list} finished homing!\\n\")\n",
    "            self.get_stage_position()\n",
    "\n",
    "    @_search_name\n",
    "    def move_stage(\n",
    "        self, name_list: list = [], pos_list: list = [], exit_list: list = []\n",
    "    ) -> None:\n",
    "        \"\"\"\n",
    "        home translation stage(s)\n",
    "        \"\"\"\n",
    "        operate_name_list = []\n",
    "        for name, pos, exit_flag in zip(name_list, pos_list, exit_list):\n",
    "            if exit_flag:\n",
    "                self.stage[name].move_to(pos)\n",
    "                self.stage[name].wait_move()  # wait for moving\n",
    "                operate_name_list.append(name)\n",
    "            else:\n",
    "                print(f\"cannot find stage {name}\")\n",
    "        time.sleep(2)  # wait to be stable\n",
    "        print(f\"{operate_name_list} finished homing!\\n\")\n",
    "        self.get_stage_position()\n",
    "\n",
    "    def get_all_stage_name(self) -> None:\n",
    "        \"\"\"\n",
    "        get all connected stage(s) name\n",
    "        \"\"\"\n",
    "        print(\"currently connected translation stage(s):\")\n",
    "        for name, sn_num in zip(\n",
    "            list(self.stage.keys()),\n",
    "            [device[0] for device in Thorlabs.list_kinesis_devices()],\n",
    "        ):\n",
    "            print(f\"S/N {sn_num}: {name}\")\n",
    "\n",
    "        print()\n",
    "\n",
    "    def move_cam_xy(self, pos: \"(x,y) coordiante\" = []) -> None:\n",
    "        \"\"\"\n",
    "        move the camera(s) to a (x,y) position\n",
    "\n",
    "        define the coordinate system based on the back view of camera(s) as follows\n",
    "        y(+)\n",
    "          ^\n",
    "          |\n",
    "          |\n",
    "          o------->x(+)\n",
    "        \"\"\"\n",
    "\n",
    "        pass\n",
    "\n",
    "    def move_cam_xyz(self, pos: \"(x,y,z) coordiante\" = []) -> None:\n",
    "        \"\"\"\n",
    "        move the camera(s) to a (x,y,z) position\n",
    "\n",
    "        define the coordinate system based on the back view of camera(s) as follows\n",
    "        y(+)  z(+)\n",
    "          ^  /\n",
    "          | /\n",
    "          |/\n",
    "          o------->x(+)\n",
    "        \"\"\"\n",
    "\n",
    "        pass\n",
    "\n",
    "    def rotate_obj(self, deg: float = 0) -> None:\n",
    "        \"\"\"\n",
    "        rotate the object by degrees\n",
    "        \"\"\"\n",
    "        pass\n",
    "\n",
    "    def cam_capture(self, frame_num: list = [], exp_time: list = []) -> None:\n",
    "        pass"
   ]
  },
  {
   "cell_type": "code",
   "execution_count": 5,
   "id": "3f5d22f1",
   "metadata": {},
   "outputs": [
    {
     "name": "stdout",
     "output_type": "stream",
     "text": [
      "detected translation stage(s) S/N:\n",
      "['27266045', '27257923']\n",
      "\n",
      "start to initialize all translation stages:\n",
      "initializing 27266045: finished. current position: 2.893937201562726e-05 [mm]\n",
      "initializing 27257923: finished. current position: 0.0 [mm]\n",
      "translation stage(s) initialization finished! \n",
      "\n"
     ]
    }
   ],
   "source": [
    "FP_xy_1cam = FP_system_control()"
   ]
  },
  {
   "cell_type": "code",
   "execution_count": 4,
   "id": "a49853f9",
   "metadata": {},
   "outputs": [
    {
     "name": "stdout",
     "output_type": "stream",
     "text": [
      "[] finished close!\n",
      "\n",
      "currently connected translation stage(s):\n",
      "\n"
     ]
    }
   ],
   "source": [
    "FP_xy_1cam.close_stages()"
   ]
  },
  {
   "cell_type": "code",
   "execution_count": 5,
   "id": "e591ce1a",
   "metadata": {},
   "outputs": [
    {
     "data": {
      "text/plain": [
       "['x', 'y', 'θ']"
      ]
     },
     "execution_count": 5,
     "metadata": {},
     "output_type": "execute_result"
    }
   ],
   "source": [
    "FP_xy_1cam.axis"
   ]
  },
  {
   "cell_type": "code",
   "execution_count": null,
   "id": "3b612c84",
   "metadata": {},
   "outputs": [],
   "source": [
    "import functools\n",
    "\n",
    "\n",
    "def outer(test):\n",
    "    def decorator(func):\n",
    "        @functools.wraps(func)\n",
    "        def wrapper(value):\n",
    "            # 原函数运行前\n",
    "            # Do something\n",
    "            value = func(test, value)\n",
    "            # 原函数运行后\n",
    "            # Do something\n",
    "            return value\n",
    "\n",
    "        return wrapper\n",
    "\n",
    "    return decorator\n",
    "\n",
    "\n",
    "@outer(2)\n",
    "def add(x, y):\n",
    "    return x + y"
   ]
  },
  {
   "cell_type": "code",
   "execution_count": null,
   "id": "1efc6277",
   "metadata": {},
   "outputs": [],
   "source": [
    "def check_value(dict, value):\n",
    "    if value in dict.values():\n",
    "        return True\n",
    "    else:\n",
    "        return False"
   ]
  },
  {
   "cell_type": "code",
   "execution_count": null,
   "id": "d93d8dc5",
   "metadata": {},
   "outputs": [],
   "source": [
    "old_name_list + [6]"
   ]
  },
  {
   "cell_type": "code",
   "execution_count": null,
   "id": "c006a203",
   "metadata": {},
   "outputs": [],
   "source": [
    "new_name_dict = {1: \"one\", 2: \"two\", 3: 3}\n",
    "old_name_list = list(range(1, 4))\n",
    "exit_list = list(\n",
    "    map(\n",
    "        check_value,\n",
    "        [new_name_dict.copy() for _ in range(len(old_name_list))],\n",
    "        old_name_list,\n",
    "    )\n",
    ")"
   ]
  },
  {
   "cell_type": "code",
   "execution_count": null,
   "id": "eece17b8",
   "metadata": {},
   "outputs": [],
   "source": [
    "[name for flag, name in zip(exit_list, old_name_list) if flag]"
   ]
  },
  {
   "cell_type": "code",
   "execution_count": null,
   "id": "72ab0faf",
   "metadata": {},
   "outputs": [],
   "source": [
    "for old_name, new_name in zip(old_name_list, list(new_name_dict.values())):\n",
    "    print(old_name, new_name)"
   ]
  },
  {
   "cell_type": "code",
   "execution_count": null,
   "id": "0ce4dd51",
   "metadata": {},
   "outputs": [],
   "source": [
    "a = [1, 2, 3]\n",
    "b = [4, 5, 6]"
   ]
  },
  {
   "cell_type": "code",
   "execution_count": null,
   "id": "78685073",
   "metadata": {},
   "outputs": [],
   "source": [
    "list(zip(*zip(a, b)))[0]"
   ]
  },
  {
   "cell_type": "code",
   "execution_count": null,
   "id": "7457c568",
   "metadata": {},
   "outputs": [],
   "source": [
    "FP_xy_1cam.get_stage_position()"
   ]
  },
  {
   "cell_type": "code",
   "execution_count": null,
   "id": "b0fedc6e",
   "metadata": {},
   "outputs": [],
   "source": [
    "FP_xy_1cam.change_stage_name(old_name=\"27266045\", new_name=\"x\")\n",
    "FP_xy_1cam.change_stage_name(old_name=\"27257923\", new_name=\"y\")"
   ]
  },
  {
   "cell_type": "code",
   "execution_count": null,
   "id": "44d99294",
   "metadata": {},
   "outputs": [],
   "source": [
    "FP_xy_1cam.close_stages()"
   ]
  },
  {
   "cell_type": "code",
   "execution_count": null,
   "id": "63e3a058",
   "metadata": {},
   "outputs": [],
   "source": [
    "str(\"\\u03B8\")"
   ]
  },
  {
   "cell_type": "code",
   "execution_count": null,
   "id": "1f51ab82",
   "metadata": {},
   "outputs": [],
   "source": [
    "[device[0] for device in Thorlabs.list_kinesis_devices()]"
   ]
  },
  {
   "cell_type": "code",
   "execution_count": null,
   "id": "8eafc7f6",
   "metadata": {},
   "outputs": [],
   "source": [
    "x_stage = Thorlabs.KinesisMotor(\n",
    "    Thorlabs.list_kinesis_devices()[0][0], scale=(34555.0, 772970.0, 264.0)\n",
    ")  # [1 mm / scale]\n",
    "\n",
    "\n",
    "y_stage = Thorlabs.KinesisMotor(\n",
    "    Thorlabs.list_kinesis_devices()[1][0], scale=(34555.0, 772970.0, 264.0)\n",
    ")  # [1 mm / scale]\n",
    "\n",
    "\n",
    "# modfied in class KinesisMotor(KinesisDevice):\n",
    "\n",
    "\n",
    "# if stage in {\"MTS25-Z8\",\"MTS50-Z8\"}:\n",
    "\n",
    "\n",
    "#             return 34555E0,\"mm\""
   ]
  },
  {
   "cell_type": "code",
   "execution_count": null,
   "id": "88c55cd3",
   "metadata": {},
   "outputs": [],
   "source": [
    "x_stage.setup_velocity(min_velocity=0, max_velocity=1, acceleration=1)\n",
    "x_stage.setup_homing(velocity=1, home_direction=\"forward\", limit_switch=\"forward\")\n",
    "x_stage.setup_jog(min_velocity=0, max_velocity=1, acceleration=1)\n",
    "\n",
    "y_stage.setup_velocity(min_velocity=0, max_velocity=1, acceleration=1)\n",
    "y_stage.setup_homing(velocity=1, home_direction=\"forward\", limit_switch=\"forward\")\n",
    "y_stage.setup_jog(min_velocity=0, max_velocity=1, acceleration=1)"
   ]
  },
  {
   "cell_type": "code",
   "execution_count": null,
   "id": "482c40e1",
   "metadata": {},
   "outputs": [],
   "source": [
    "print(x_stage.get_full_info())\n",
    "print(y_stage.get_full_info())"
   ]
  },
  {
   "cell_type": "code",
   "execution_count": null,
   "id": "3e299482",
   "metadata": {},
   "outputs": [],
   "source": [
    "x_stage.home(force=True)  # home the stage\n",
    "y_stage.home(force=True)  # home the stage\n",
    "\n",
    "x_stage.wait_for_home()  # wait until homing is done\n",
    "y_stage.wait_for_home()  # wait until homing is done"
   ]
  },
  {
   "cell_type": "code",
   "execution_count": null,
   "id": "3ed253dc",
   "metadata": {},
   "outputs": [],
   "source": [
    "print(x_stage.get_position())\n",
    "print(y_stage.get_position())"
   ]
  },
  {
   "cell_type": "code",
   "execution_count": null,
   "id": "f2ce2059",
   "metadata": {},
   "outputs": [],
   "source": [
    "x_stage.move_to(-25)\n",
    "x_stage.wait_move()\n",
    "y_stage.move_to(-25)\n",
    "y_stage.wait_move()"
   ]
  },
  {
   "cell_type": "code",
   "execution_count": null,
   "id": "162e9c38",
   "metadata": {},
   "outputs": [],
   "source": [
    "x_stage.close()\n",
    "y_stage.close()"
   ]
  }
 ],
 "metadata": {
  "kernelspec": {
   "display_name": "Python 3 (ipykernel)",
   "language": "python",
   "name": "python3"
  },
  "language_info": {
   "codemirror_mode": {
    "name": "ipython",
    "version": 3
   },
   "file_extension": ".py",
   "mimetype": "text/x-python",
   "name": "python",
   "nbconvert_exporter": "python",
   "pygments_lexer": "ipython3",
   "version": "3.10.14"
  }
 },
 "nbformat": 4,
 "nbformat_minor": 5
}
