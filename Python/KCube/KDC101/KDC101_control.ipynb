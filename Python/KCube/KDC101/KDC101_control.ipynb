{
 "cells": [
  {
   "cell_type": "code",
   "execution_count": 3,
   "id": "b3f6e7db-a824-4aab-88ab-db4eebd9ec17",
   "metadata": {},
   "outputs": [],
   "source": [
    "import numpy as np\n",
    "import os\n",
    "import time\n",
    "import ctypes\n",
    "import sys\n",
    "\n",
    "# from ctypes import *"
   ]
  },
  {
   "cell_type": "markdown",
   "id": "2db273df",
   "metadata": {},
   "source": [
    "# pylablib\n",
    "ref: [thorlabs kinesis](https://pylablib.readthedocs.io/en/latest/devices/Thorlabs_kinesis.html#thorlabs-apt-kinesis-devices)"
   ]
  },
  {
   "cell_type": "code",
   "execution_count": 4,
   "id": "1fb574ec",
   "metadata": {},
   "outputs": [],
   "source": [
    "from typing import Any\n",
    "import functools\n",
    "from pylablib.devices import Thorlabs\n",
    "import time\n",
    "\n",
    "\n",
    "class FP_system_control(object):\n",
    "    \"\"\"\n",
    "    Fourier Ptychography system control Class\n",
    "    \"\"\"\n",
    "\n",
    "    def __init__(\n",
    "        self,\n",
    "        scale=(34555.0, 772970.0, 264.0),\n",
    "        move_min_velocity=0,\n",
    "        move_max_velocity=1,\n",
    "        acceleration=1,\n",
    "        home_direction=\"forward\",\n",
    "        *args,\n",
    "        **kwargs,\n",
    "    ) -> None:\n",
    "        \"\"\"\n",
    "        initialize the whole system: translation stages and cameras\n",
    "        \"\"\"\n",
    "\n",
    "        self.motor_SN = [\n",
    "            device[0] for device in Thorlabs.list_kinesis_devices()\n",
    "        ]  # translation stage serial number\n",
    "        print(f\"translation stage S/N: {self.motor_SN}\")\n",
    "        self.stage = {}  # translation stage objects\n",
    "        # self.axis = [\n",
    "        #     chr(97 + 23 + i) for i in range(len(self.motor_SN))\n",
    "        # ]  # axis name 'x', 'y', and 'z'\n",
    "\n",
    "        ## config translation stage parameters\n",
    "        self.scale = scale  # device unit in [1 mm / scale]\n",
    "        self.move_min_velocity = move_min_velocity\n",
    "        self.move_max_velocity = move_max_velocity\n",
    "        self.acceleration = acceleration\n",
    "        self.home_direction = home_direction\n",
    "\n",
    "        print(\"start to initialize all translation stages\")\n",
    "        self.init_all_stage()  # initialize all translation stages\n",
    "\n",
    "    def __str__(self) -> str:\n",
    "        \"\"\"\n",
    "        brief introduction\n",
    "        \"\"\"\n",
    "\n",
    "        return \"Fourier Ptychography camera system control\"\n",
    "\n",
    "    def __call__(self, *args: Any, **kwds: Any) -> Any:\n",
    "        \"\"\"\n",
    "        decorator\n",
    "        \"\"\"\n",
    "\n",
    "        pass\n",
    "\n",
    "    def init_all_stage(\n",
    "        self,\n",
    "    ) -> None:\n",
    "        \"\"\"\n",
    "        initialize all translation stages\n",
    "        \"\"\"\n",
    "\n",
    "        for SN in self.motor_SN:\n",
    "            print(f\"initialize translation stage {SN}\")\n",
    "            self.stage[SN] = Thorlabs.KinesisMotor(\n",
    "                SN, self.scale\n",
    "            )  # connect to stage and set scale. [1 mm / scale]\n",
    "\n",
    "            ## config moving velocity\n",
    "            self.stage[SN].setup_velocity(\n",
    "                min_velocity=self.move_min_velocity,\n",
    "                max_velocity=self.move_max_velocity,\n",
    "                acceleration=self.acceleration,\n",
    "            )\n",
    "\n",
    "            ## config home mode\n",
    "            self.stage[SN].setup_homing(\n",
    "                velocity=self.move_max_velocity,\n",
    "                home_direction=self.home_direction,\n",
    "                limit_switch=self.home_direction,\n",
    "            )\n",
    "\n",
    "            ## config jog mode\n",
    "            self.stage[SN].setup_jog(\n",
    "                min_velocity=self.move_min_velocity,\n",
    "                max_velocity=self.move_max_velocity,\n",
    "                acceleration=self.acceleration,\n",
    "            )\n",
    "\n",
    "            self.stage[SN].home(force=True)  # home the stage\n",
    "            self.stage[SN].wait_for_home()  # wait for \"home\"\n",
    "\n",
    "        time.sleep(2)  # wait for the last translation stage to finish \"home\"\n",
    "\n",
    "    def change_stage_name(self, old_name, new_name=\"x\") -> None:\n",
    "        \"\"\"\n",
    "        change translation stage name\n",
    "        \"\"\"\n",
    "\n",
    "        self.stage[new_name] = self.stage.pop(old_name)\n",
    "\n",
    "    def close_stages(self, close_all=True, name_list=[]) -> None:\n",
    "        \"\"\"\n",
    "        turn off the connection to the translation stage(s)\n",
    "        \"\"\"\n",
    "        if close_all:\n",
    "            name_list = self.stage.keys()\n",
    "\n",
    "        for name in name_list:\n",
    "            self.stage[name].close\n",
    "\n",
    "    def move_cam_xy(self, pos=[]) -> None:\n",
    "        \"\"\"\n",
    "        move the camera(s) to a (x,y) position\n",
    "        define the back view of camera(s) system\n",
    "        y\n",
    "        ^\n",
    "        |\n",
    "        |\n",
    "        o------->x\n",
    "        \"\"\"\n",
    "\n",
    "        pass"
   ]
  },
  {
   "cell_type": "code",
   "execution_count": 5,
   "id": "3f5d22f1",
   "metadata": {},
   "outputs": [
    {
     "name": "stdout",
     "output_type": "stream",
     "text": [
      "translation stage S/N: ['27257923', '27266045']\n"
     ]
    }
   ],
   "source": [
    "FP_xy_1cam = FP_system_control()"
   ]
  },
  {
   "cell_type": "code",
   "execution_count": 10,
   "id": "44d99294",
   "metadata": {},
   "outputs": [],
   "source": [
    "FP_xy_1cam.close_stages()"
   ]
  },
  {
   "cell_type": "code",
   "execution_count": 9,
   "id": "b2a33887",
   "metadata": {},
   "outputs": [
    {
     "data": {
      "text/plain": [
       "{'27257923': <pylablib.devices.Thorlabs.kinesis.KinesisMotor at 0x274fd383d00>,\n",
       " '27266045': <pylablib.devices.Thorlabs.kinesis.KinesisMotor at 0x274fd39afe0>}"
      ]
     },
     "execution_count": 9,
     "metadata": {},
     "output_type": "execute_result"
    }
   ],
   "source": [
    "FP_xy_1cam.stage"
   ]
  },
  {
   "cell_type": "code",
   "execution_count": 3,
   "id": "63e3a058",
   "metadata": {},
   "outputs": [
    {
     "data": {
      "text/plain": [
       "'x'"
      ]
     },
     "execution_count": 3,
     "metadata": {},
     "output_type": "execute_result"
    }
   ],
   "source": [
    "chr(97 + 23)"
   ]
  },
  {
   "cell_type": "code",
   "execution_count": 190,
   "id": "1f51ab82",
   "metadata": {},
   "outputs": [
    {
     "data": {
      "text/plain": [
       "['27266045', '27257923']"
      ]
     },
     "execution_count": 190,
     "metadata": {},
     "output_type": "execute_result"
    }
   ],
   "source": [
    "[device[0] for device in Thorlabs.list_kinesis_devices()]"
   ]
  },
  {
   "cell_type": "code",
   "execution_count": 163,
   "id": "8eafc7f6",
   "metadata": {},
   "outputs": [],
   "source": [
    "x_stage = Thorlabs.KinesisMotor(\n",
    "    Thorlabs.list_kinesis_devices()[0][0], scale=(34555.0, 772970.0, 264.0)\n",
    ")  # [1 mm / scale]\n",
    "\n",
    "\n",
    "y_stage = Thorlabs.KinesisMotor(\n",
    "    Thorlabs.list_kinesis_devices()[1][0], scale=(34555.0, 772970.0, 264.0)\n",
    ")  # [1 mm / scale]\n",
    "\n",
    "\n",
    "# modfied in class KinesisMotor(KinesisDevice):\n",
    "\n",
    "\n",
    "# if stage in {\"MTS25-Z8\",\"MTS50-Z8\"}:\n",
    "\n",
    "\n",
    "#             return 34555E0,\"mm\""
   ]
  },
  {
   "cell_type": "code",
   "execution_count": 164,
   "id": "88c55cd3",
   "metadata": {},
   "outputs": [
    {
     "data": {
      "text/plain": [
       "TJogParams(mode='step', step_size=0.4999855303139922, min_velocity=0.0, acceleration=1.0, max_velocity=1.0, stop_mode='profiled')"
      ]
     },
     "execution_count": 164,
     "metadata": {},
     "output_type": "execute_result"
    }
   ],
   "source": [
    "x_stage.setup_velocity(min_velocity=0, max_velocity=1, acceleration=1)\n",
    "x_stage.setup_homing(velocity=1, home_direction=\"forward\", limit_switch=\"forward\")\n",
    "x_stage.setup_jog(min_velocity=0, max_velocity=1, acceleration=1)\n",
    "\n",
    "y_stage.setup_velocity(min_velocity=0, max_velocity=1, acceleration=1)\n",
    "y_stage.setup_homing(velocity=1, home_direction=\"forward\", limit_switch=\"forward\")\n",
    "y_stage.setup_jog(min_velocity=0, max_velocity=1, acceleration=1)"
   ]
  },
  {
   "cell_type": "code",
   "execution_count": 165,
   "id": "482c40e1",
   "metadata": {},
   "outputs": [
    {
     "name": "stdout",
     "output_type": "stream",
     "text": [
      "{'velocity_parameters': TVelocityParams(min_velocity=0.0, acceleration=1.0, max_velocity=1.0), 'jog_parameters': TJogParams(mode='step', step_size=0.4999855303139922, min_velocity=0.0, acceleration=1.0, max_velocity=1.0, stop_mode='profiled'), 'homing_parameters': THomeParams(home_direction='forward', limit_switch='forward', velocity=1.0, offset_distance=1.0), 'gen_move_parameters': TGenMoveParams(backlash_distance=0.05000723484300391), 'limit_switch_parameters': TLimitSwitchParams(hw_kind_cw='make', hw_kind_ccw='make', hw_swapped=False, sw_position_cw=3.0, sw_position_ccw=1.0, sw_kind='ignore'), 'kcube_trigio_parameters': TKCubeTrigIOParams(trig1_mode='off', trig1_pol=True, trig2_mode='off', trig2_pol=True), 'kcube_trigpos_parameters': TKCubeTrigPosParams(start_fw=0.0, step_fw=0.0, num_fw=1, start_bk=0.0, step_bk=0.0, num_bk=1, width=0.05, ncycles=1), 'position': 0.0, 'status': ['sw_bk_lim', 'connected', 'homed', 'digio1', 'digio2', 'power_ok', 'enabled'], 'cls': 'KinesisMotor', 'conn': {'port': '27266045', 'baudrate': 115200, 'bytesize': 8, 'parity': 'N', 'stopbits': 1, 'xonxoff': 0, 'rtscts': True}, 'device_info': TDeviceInfo(serial_no=27266045, model_no='KDC101', fw_ver='2.2.6', hw_type=16, hw_ver=3, mod_state=0, nchannels=1, notes='KDC101 DC Servo Drive'), 'channel': [1], 'scale_units': 'user', 'scale': (34555.0, 772970.0, 264.0), 'stage': None}\n",
      "{'velocity_parameters': TVelocityParams(min_velocity=0.0, acceleration=1.0, max_velocity=1.0), 'jog_parameters': TJogParams(mode='step', step_size=0.4999855303139922, min_velocity=0.0, acceleration=1.0, max_velocity=1.0, stop_mode='profiled'), 'homing_parameters': THomeParams(home_direction='forward', limit_switch='forward', velocity=1.0, offset_distance=1.0), 'gen_move_parameters': TGenMoveParams(backlash_distance=0.05000723484300391), 'limit_switch_parameters': TLimitSwitchParams(hw_kind_cw='make', hw_kind_ccw='make', hw_swapped=False, sw_position_cw=3.0, sw_position_ccw=1.0, sw_kind='ignore'), 'kcube_trigio_parameters': TKCubeTrigIOParams(trig1_mode='off', trig1_pol=True, trig2_mode='off', trig2_pol=True), 'kcube_trigpos_parameters': TKCubeTrigPosParams(start_fw=0.0, step_fw=0.0, num_fw=1, start_bk=0.0, step_bk=0.0, num_bk=1, width=0.05, ncycles=1), 'position': 0.0, 'status': ['sw_bk_lim', 'connected', 'homed', 'digio1', 'digio2', 'power_ok', 'enabled'], 'cls': 'KinesisMotor', 'conn': {'port': '27257923', 'baudrate': 115200, 'bytesize': 8, 'parity': 'N', 'stopbits': 1, 'xonxoff': 0, 'rtscts': True}, 'device_info': TDeviceInfo(serial_no=27257923, model_no='KDC101', fw_ver='2.2.4', hw_type=16, hw_ver=3, mod_state=0, nchannels=1, notes='KDC101 DC Servo Drive'), 'channel': [1], 'scale_units': 'user', 'scale': (34555.0, 772970.0, 264.0), 'stage': None}\n"
     ]
    }
   ],
   "source": [
    "print(x_stage.get_full_info())\n",
    "print(y_stage.get_full_info())"
   ]
  },
  {
   "cell_type": "code",
   "execution_count": 184,
   "id": "3e299482",
   "metadata": {},
   "outputs": [],
   "source": [
    "x_stage.home(force=True)  # home the stage\n",
    "y_stage.home(force=True)  # home the stage\n",
    "\n",
    "x_stage.wait_for_home()  # wait until homing is done\n",
    "y_stage.wait_for_home()  # wait until homing is done"
   ]
  },
  {
   "cell_type": "code",
   "execution_count": 183,
   "id": "3ed253dc",
   "metadata": {},
   "outputs": [
    {
     "name": "stdout",
     "output_type": "stream",
     "text": [
      "-25.000086818116046\n",
      "-25.0\n"
     ]
    }
   ],
   "source": [
    "print(x_stage.get_position())\n",
    "print(y_stage.get_position())"
   ]
  },
  {
   "cell_type": "code",
   "execution_count": 185,
   "id": "f2ce2059",
   "metadata": {},
   "outputs": [],
   "source": [
    "x_stage.move_to(-25)\n",
    "x_stage.wait_move()\n",
    "y_stage.move_to(-25)\n",
    "y_stage.wait_move()"
   ]
  },
  {
   "cell_type": "code",
   "execution_count": 204,
   "id": "162e9c38",
   "metadata": {},
   "outputs": [],
   "source": [
    "x_stage.close()\n",
    "y_stage.close()"
   ]
  },
  {
   "cell_type": "code",
   "execution_count": null,
   "id": "3ec5f028",
   "metadata": {},
   "outputs": [],
   "source": []
  },
  {
   "cell_type": "code",
   "execution_count": null,
   "id": "c3bb69a5",
   "metadata": {},
   "outputs": [],
   "source": []
  },
  {
   "cell_type": "code",
   "execution_count": null,
   "id": "1607b127",
   "metadata": {},
   "outputs": [],
   "source": []
  },
  {
   "cell_type": "code",
   "execution_count": null,
   "id": "4c8d0658",
   "metadata": {},
   "outputs": [],
   "source": []
  },
  {
   "cell_type": "code",
   "execution_count": null,
   "id": "f4ed58a1",
   "metadata": {},
   "outputs": [],
   "source": []
  },
  {
   "cell_type": "code",
   "execution_count": null,
   "id": "e6840ed0",
   "metadata": {},
   "outputs": [],
   "source": []
  },
  {
   "cell_type": "markdown",
   "id": "cb325e6d",
   "metadata": {},
   "source": [
    "# thorlabs-kinesis"
   ]
  },
  {
   "cell_type": "code",
   "execution_count": 2,
   "id": "1a16001b",
   "metadata": {},
   "outputs": [],
   "source": [
    "if sys.version_info < (3, 8):\n",
    "    os.chdir(r\"C:\\Program Files\\Thorlabs\\Kinesis\")\n",
    "else:\n",
    "    os.add_dll_directory(r\"C:\\Program Files\\Thorlabs\\Kinesis\")\n",
    "\n",
    "lib: CDLL = cdll.LoadLibrary(\"Thorlabs.MotionControl.KCube.DCServo.dll\")"
   ]
  },
  {
   "cell_type": "code",
   "execution_count": 3,
   "id": "8c0d1795",
   "metadata": {},
   "outputs": [
    {
     "name": "stdout",
     "output_type": "stream",
     "text": [
      "0\n",
      "home operation completed!\n",
      "-2147482624\n"
     ]
    },
    {
     "data": {
      "text/plain": [
       "2"
      ]
     },
     "execution_count": 3,
     "metadata": {},
     "output_type": "execute_result"
    }
   ],
   "source": [
    "# Uncomment this line if you are using simulations\n",
    "lib.TLI_InitializeSimulations()\n",
    "\n",
    "# Set constants\n",
    "serial_num = c_char_p(b\"27000001\")\n",
    "\n",
    "if lib.TLI_BuildDeviceList() == 0:\n",
    "    lib.CC_Open(serial_num)\n",
    "    lib.CC_StartPolling(serial_num, c_int(200))\n",
    "\n",
    "    if lib.CC_CanHome(serial_num):\n",
    "        lib.CC_Home(serial_num)\n",
    "\n",
    "        lib.CC_RequestStatusBits(serial_num)\n",
    "        print(lib.CC_GetStatusBits(serial_num))\n",
    "\n",
    "        while lib.CC_GetPositionCounter(serial_num) != 0:\n",
    "            pass\n",
    "\n",
    "        time.sleep(0.1)\n",
    "\n",
    "        print(\"home operation completed!\")\n",
    "\n",
    "        lib.CC_RequestStatusBits(serial_num)\n",
    "        print(lib.CC_GetStatusBits(serial_num))\n",
    "\n",
    "    # # Set up the device to convert real units to device units\n",
    "    # STEPS_PER_REV = c_double(34555)  # for the MTS50-Z8\n",
    "    # gbox_ratio = c_double(1.0)  # gearbox ratio\n",
    "    # pitch = c_double(1.0)\n",
    "\n",
    "    # # Apply these values to the device\n",
    "    # lib.CC_SetMotorParamsExt(serial_num, STEPS_PER_REV, gbox_ratio, pitch)\n",
    "\n",
    "    # # Get the device's current position in dev units\n",
    "    # lib.CC_RequestPosition(serial_num)\n",
    "    # time.sleep(0.2)\n",
    "    # dev_pos = c_int(lib.CC_GetPosition(serial_num))\n",
    "\n",
    "    lib.CC_Close(serial_num)\n",
    "\n",
    "\n",
    "# Uncomment this line if you are using simulations\n",
    "lib.TLI_UninitializeSimulations()"
   ]
  },
  {
   "cell_type": "markdown",
   "id": "4e41f299",
   "metadata": {},
   "source": [
    "# thorlabs_apt_device"
   ]
  },
  {
   "cell_type": "code",
   "execution_count": 2,
   "id": "8acfffb4-78b2-48f2-b948-011884d04dad",
   "metadata": {},
   "outputs": [],
   "source": [
    "from thorlabs_apt_device import TDC001, KDC101"
   ]
  },
  {
   "cell_type": "code",
   "execution_count": 30,
   "id": "325b4cc8",
   "metadata": {},
   "outputs": [],
   "source": [
    "stage = TDC001(\"COM6\", home=False)\n",
    "time.sleep(1)\n",
    "while (\n",
    "    stage.status[\"moving_forward\"] == True\n",
    "    or stage.status[\"moving_reverse\"] == True\n",
    "    or stage.status[\"homing\"] == True\n",
    "):\n",
    "    pass"
   ]
  },
  {
   "cell_type": "code",
   "execution_count": 34,
   "id": "8f2a0dc8",
   "metadata": {},
   "outputs": [],
   "source": [
    "stage.home()\n",
    "time.sleep(1)\n",
    "while (\n",
    "    stage.status[\"moving_forward\"] == True\n",
    "    or stage.status[\"moving_reverse\"] == True\n",
    "    or stage.status[\"homing\"] == True\n",
    "):\n",
    "    pass"
   ]
  },
  {
   "cell_type": "code",
   "execution_count": 227,
   "id": "15ff3fb7",
   "metadata": {},
   "outputs": [],
   "source": [
    "stage.stop(True)"
   ]
  },
  {
   "cell_type": "code",
   "execution_count": 35,
   "id": "edf40702",
   "metadata": {},
   "outputs": [
    {
     "data": {
      "text/plain": [
       "{'position': 0,\n",
       " 'enc_count': 0,\n",
       " 'velocity': 0,\n",
       " 'forward_limit_switch': False,\n",
       " 'reverse_limit_switch': False,\n",
       " 'moving_forward': False,\n",
       " 'moving_reverse': False,\n",
       " 'jogging_forward': False,\n",
       " 'jogging_reverse': False,\n",
       " 'motor_connected': True,\n",
       " 'homing': False,\n",
       " 'homed': True,\n",
       " 'tracking': False,\n",
       " 'interlock': False,\n",
       " 'settled': False,\n",
       " 'motion_error': False,\n",
       " 'motor_current_limit_reached': False,\n",
       " 'channel_enabled': True,\n",
       " 'msg': 'mot_get_dcstatusupdate',\n",
       " 'msgid': 1169,\n",
       " 'source': 80,\n",
       " 'dest': 1,\n",
       " 'chan_ident': 1,\n",
       " 'forward_limit_soft': True,\n",
       " 'reverse_limit_soft': False,\n",
       " 'initializing': False,\n",
       " 'instrument_error': False,\n",
       " 'overtemp': False,\n",
       " 'voltage_fault': False,\n",
       " 'commutation_error': False,\n",
       " 'digital_in_1': False,\n",
       " 'digital_in_2': False,\n",
       " 'digital_in_3': False,\n",
       " 'digital_in_4': False,\n",
       " 'encoder_fault': False,\n",
       " 'overcurrent': False,\n",
       " 'current_fault': False,\n",
       " 'power_ok': True,\n",
       " 'active': False,\n",
       " 'error': False}"
      ]
     },
     "execution_count": 35,
     "metadata": {},
     "output_type": "execute_result"
    }
   ],
   "source": [
    "stage.status"
   ]
  },
  {
   "cell_type": "code",
   "execution_count": 32,
   "id": "dfb44547",
   "metadata": {},
   "outputs": [],
   "source": [
    "# Flash the LED on the device to identify it\n",
    "stage.identify()\n",
    "stage.set_velocity_params(264, 772970)\n",
    "\n",
    "stage.move_absolute(34555 * 10)\n",
    "time.sleep(1)\n",
    "while (\n",
    "    stage.status[\"moving_forward\"] == True\n",
    "    or stage.status[\"moving_reverse\"] == True\n",
    "    or stage.status[\"homing\"] == True\n",
    "):\n",
    "    pass\n",
    "time.sleep(1)\n",
    "# Do some moves (encoder counts)\n",
    "# or\n",
    "# stage.move_absolute(12345)"
   ]
  },
  {
   "cell_type": "code",
   "execution_count": 33,
   "id": "7f99c771",
   "metadata": {},
   "outputs": [
    {
     "name": "stdout",
     "output_type": "stream",
     "text": [
      "345550\n"
     ]
    }
   ],
   "source": [
    "# See the position (in encoder counts)\n",
    "print(stage.status[\"position\"])"
   ]
  },
  {
   "cell_type": "code",
   "execution_count": 23,
   "id": "b5fcb6de",
   "metadata": {},
   "outputs": [
    {
     "data": {
      "text/plain": [
       "False"
      ]
     },
     "execution_count": 23,
     "metadata": {},
     "output_type": "execute_result"
    }
   ],
   "source": [
    "stage.status[\"moving_forward\"]"
   ]
  },
  {
   "cell_type": "code",
   "execution_count": 27,
   "id": "71daa2da",
   "metadata": {},
   "outputs": [],
   "source": [
    "stage.close()"
   ]
  },
  {
   "cell_type": "code",
   "execution_count": null,
   "id": "ef31bb50",
   "metadata": {},
   "outputs": [],
   "source": []
  }
 ],
 "metadata": {
  "kernelspec": {
   "display_name": "Python 3 (ipykernel)",
   "language": "python",
   "name": "python3"
  },
  "language_info": {
   "codemirror_mode": {
    "name": "ipython",
    "version": 3
   },
   "file_extension": ".py",
   "mimetype": "text/x-python",
   "name": "python",
   "nbconvert_exporter": "python",
   "pygments_lexer": "ipython3",
   "version": "3.10.14"
  }
 },
 "nbformat": 4,
 "nbformat_minor": 5
}
